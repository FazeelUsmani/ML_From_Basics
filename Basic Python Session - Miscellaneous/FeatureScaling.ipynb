{
 "cells": [
  {
   "cell_type": "markdown",
   "metadata": {},
   "source": [
    "# Scaling"
   ]
  },
  {
   "cell_type": "markdown",
   "metadata": {},
   "source": [
    "- Weight       Fuel in Engine\n",
    "\n",
    "- 1000           2\n",
    "- 2000           4\n",
    "- 4000           6\n",
    "- 6000           8\n",
    "- 8000          10"
   ]
  },
  {
   "cell_type": "markdown",
   "metadata": {},
   "source": [
    "As you can see 2 columns carry values that are varying in a totally different range . Column having large values dominates over the formation of a prediction line during model training phase . To mitigate this , it is advisable to bring values in all columns to uniform range without disturbiing the relationship or proportion . This is achieved by scaling ."
   ]
  },
  {
   "cell_type": "code",
   "execution_count": 2,
   "metadata": {},
   "outputs": [],
   "source": [
    "import matplotlib.pyplot as plt\n",
    "import numpy as np"
   ]
  },
  {
   "cell_type": "code",
   "execution_count": 3,
   "metadata": {},
   "outputs": [],
   "source": [
    "x = np.array([8000,8030,9000,8300,10000,8598,9012,8444,9009,9991])\n",
    "y = np.array([1,2,2,1,3,1,3,2,3,1])"
   ]
  },
  {
   "cell_type": "code",
   "execution_count": 4,
   "metadata": {
    "scrolled": true
   },
   "outputs": [
    {
     "data": {
      "image/png": "[encoded data removed]",
      "text/plain": [
       "<Figure size 432x288 with 1 Axes>"
      ]
     },
     "metadata": {
      "needs_background": "light"
     },
     "output_type": "display_data"
    }
   ],
   "source": [
    "plt.scatter(x,y)\n",
    "plt.show()\n"
   ]
  },
  {
   "cell_type": "markdown",
   "metadata": {},
   "source": [
    "## To calculate slope b/w first two points"
   ]
  },
  {
   "cell_type": "code",
   "execution_count": 5,
   "metadata": {},
   "outputs": [
    {
     "data": {
      "text/plain": [
       "0.03333333333333333"
      ]
     },
     "execution_count": 5,
     "metadata": {},
     "output_type": "execute_result"
    }
   ],
   "source": [
    "(y[1]-y[0])/(x[1]-x[0])"
   ]
  },
  {
   "cell_type": "markdown",
   "metadata": {},
   "source": [
    "# Min - Max Scaling\n"
   ]
  },
  {
   "cell_type": "code",
   "execution_count": 7,
   "metadata": {},
   "outputs": [],
   "source": [
    "from sklearn.preprocessing import MinMaxScaler"
   ]
  },
  {
   "cell_type": "code",
   "execution_count": 8,
   "metadata": {},
   "outputs": [],
   "source": [
    "x = x.reshape(-1,1)\n",
    "y = y.reshape(-1,1)\n"
   ]
  },
  {
   "cell_type": "code",
   "execution_count": 11,
   "metadata": {},
   "outputs": [
    {
     "name": "stderr",
     "output_type": "stream",
     "text": [
      "C:\\Users\\ayon\\Anaconda3\\lib\\site-packages\\sklearn\\utils\\validation.py:475: DataConversionWarning: Data with input dtype int32 was converted to float64 by MinMaxScaler.\n",
      "  warnings.warn(msg, DataConversionWarning)\n"
     ]
    },
    {
     "data": {
      "text/plain": [
       "array([[0.    ],\n",
       "       [0.015 ],\n",
       "       [0.5   ],\n",
       "       [0.15  ],\n",
       "       [1.    ],\n",
       "       [0.299 ],\n",
       "       [0.506 ],\n",
       "       [0.222 ],\n",
       "       [0.5045],\n",
       "       [0.9955]])"
      ]
     },
     "execution_count": 11,
     "metadata": {},
     "output_type": "execute_result"
    }
   ],
   "source": [
    "scaler = MinMaxScaler(feature_range=(0,1))  #All values brought down in range 0 to 1 from numbers like 1000,8000 etc.\n",
    "rescaledx = scaler.fit_transform(x)\n",
    "rescaledx \n"
   ]
  },
  {
   "cell_type": "code",
   "execution_count": 12,
   "metadata": {},
   "outputs": [
    {
     "data": {
      "image/png": "[encoded data removed]",
      "text/plain": [
       "<Figure size 432x288 with 1 Axes>"
      ]
     },
     "metadata": {
      "needs_background": "light"
     },
     "output_type": "display_data"
    }
   ],
   "source": [
    "plt.scatter(rescaledx,y)   #Now compare the below normalized plot with the plot above \n",
    "plt.show()\n"
   ]
  },
  {
   "cell_type": "markdown",
   "metadata": {},
   "source": [
    "## Let\\`s see the effect of normalization on the slope"
   ]
  },
  {
   "cell_type": "code",
   "execution_count": 14,
   "metadata": {},
   "outputs": [
    {
     "name": "stderr",
     "output_type": "stream",
     "text": [
      "C:\\Users\\ayon\\Anaconda3\\lib\\site-packages\\sklearn\\utils\\validation.py:475: DataConversionWarning: Data with input dtype int32 was converted to float64 by MinMaxScaler.\n",
      "  warnings.warn(msg, DataConversionWarning)\n"
     ]
    },
    {
     "data": {
      "text/plain": [
       "array([33.33333333])"
      ]
     },
     "execution_count": 14,
     "metadata": {},
     "output_type": "execute_result"
    }
   ],
   "source": [
    "scaler = MinMaxScaler(feature_range=(0,1))  #All values brought down in range 0 to 1 from numbers like 1000,8000 etc.\n",
    "rescaledx = scaler.fit_transform(x)\n",
    "rescaledy = scaler.fit_transform(y)\n",
    "\n",
    "(rescaledy[0]-rescaledy[1])/(rescaledx[0]-rescaledx[1])"
   ]
  },
  {
   "cell_type": "markdown",
   "metadata": {},
   "source": [
    "# Standardization Scaling"
   ]
  },
  {
   "cell_type": "markdown",
   "metadata": {},
   "source": [
    "Z Score Normalization"
   ]
  },
  {
   "cell_type": "code",
   "execution_count": 15,
   "metadata": {},
   "outputs": [
    {
     "name": "stderr",
     "output_type": "stream",
     "text": [
      "C:\\Users\\ayon\\Anaconda3\\lib\\site-packages\\sklearn\\utils\\validation.py:475: DataConversionWarning: Data with input dtype int32 was converted to float64 by StandardScaler.\n",
      "  warnings.warn(msg, DataConversionWarning)\n"
     ]
    },
    {
     "data": {
      "text/plain": [
       "array([[-1.23310114],\n",
       "       [-1.18897777],\n",
       "       [ 0.23767789],\n",
       "       [-0.79186743],\n",
       "       [ 1.70845692],\n",
       "       [-0.35357528],\n",
       "       [ 0.25532724],\n",
       "       [-0.58007525],\n",
       "       [ 0.2509149 ],\n",
       "       [ 1.69521991]])"
      ]
     },
     "execution_count": 15,
     "metadata": {},
     "output_type": "execute_result"
    }
   ],
   "source": [
    "from sklearn.preprocessing import StandardScaler\n",
    "scaler = StandardScaler()\n",
    "x1 = x.reshape(-1,1)\n",
    "rescaledx = scaler.fit_transform(x1)\n",
    "rescaledx"
   ]
  },
  {
   "cell_type": "code",
   "execution_count": 16,
   "metadata": {},
   "outputs": [
    {
     "name": "stderr",
     "output_type": "stream",
     "text": [
      "C:\\Users\\ayon\\Anaconda3\\lib\\site-packages\\sklearn\\utils\\validation.py:475: DataConversionWarning: Data with input dtype int32 was converted to float64 by StandardScaler.\n",
      "  warnings.warn(msg, DataConversionWarning)\n"
     ]
    },
    {
     "data": {
      "text/plain": [
       "array([[-1.08347268],\n",
       "       [ 0.12038585],\n",
       "       [ 0.12038585],\n",
       "       [-1.08347268],\n",
       "       [ 1.32424438],\n",
       "       [-1.08347268],\n",
       "       [ 1.32424438],\n",
       "       [ 0.12038585],\n",
       "       [ 1.32424438],\n",
       "       [-1.08347268]])"
      ]
     },
     "execution_count": 16,
     "metadata": {},
     "output_type": "execute_result"
    }
   ],
   "source": [
    "scaler = StandardScaler().fit(y)\n",
    "y1 = y.reshape(-1,1)\n",
    "rescaledy = scaler.transform(y1)\n",
    "rescaledy"
   ]
  },
  {
   "cell_type": "code",
   "execution_count": 17,
   "metadata": {},
   "outputs": [
    {
     "data": {
      "image/png": "[encoded data removed]",
      "text/plain": [
       "<Figure size 432x288 with 1 Axes>"
      ]
     },
     "metadata": {
      "needs_background": "light"
     },
     "output_type": "display_data"
    }
   ],
   "source": [
    "plt.scatter(rescaledx,rescaledy)   #Now compare the below normalized plot with the plot above \n",
    "plt.show()"
   ]
  },
  {
   "cell_type": "code",
   "execution_count": 18,
   "metadata": {},
   "outputs": [
    {
     "data": {
      "text/plain": [
       "array([27.28392022])"
      ]
     },
     "execution_count": 18,
     "metadata": {},
     "output_type": "execute_result"
    }
   ],
   "source": [
    "(rescaledy[0]-rescaledy[1])/(rescaledx[0]-rescaledx[1])"
   ]
  },
  {
   "cell_type": "markdown",
   "metadata": {},
   "source": [
    "# Binarize Data ( Make Binary) "
   ]
  },
  {
   "cell_type": "markdown",
   "metadata": {},
   "source": [
    "We transform data by using binary threshold i.e values above the threshold are marked 1 and all equal to or below are marked as 0"
   ]
  },
  {
   "cell_type": "code",
   "execution_count": 20,
   "metadata": {},
   "outputs": [],
   "source": [
    "from sklearn.preprocessing import Binarizer"
   ]
  },
  {
   "cell_type": "code",
   "execution_count": 21,
   "metadata": {},
   "outputs": [
    {
     "data": {
      "text/plain": [
       "array([[0.],\n",
       "       [0.],\n",
       "       [1.],\n",
       "       [0.],\n",
       "       [1.],\n",
       "       [0.],\n",
       "       [1.],\n",
       "       [0.],\n",
       "       [1.],\n",
       "       [1.]])"
      ]
     },
     "execution_count": 21,
     "metadata": {},
     "output_type": "execute_result"
    }
   ],
   "source": [
    "binarizer = Binarizer(threshold=0.0)\n",
    "binaryX = binarizer.fit_transform(rescaledx)\n",
    "binaryX"
   ]
  },
  {
   "cell_type": "markdown",
   "metadata": {},
   "source": [
    "# Application on Real Data"
   ]
  },
  {
   "cell_type": "code",
   "execution_count": 23,
   "metadata": {},
   "outputs": [
    {
     "data": {
      "text/html": [
       "<div>\n",
       "<style scoped>\n",
       "    .dataframe tbody tr th:only-of-type {\n",
       "        vertical-align: middle;\n",
       "    }\n",
       "\n",
       "    .dataframe tbody tr th {\n",
       "        vertical-align: top;\n",
       "    }\n",
       "\n",
       "    .dataframe thead th {\n",
       "        text-align: right;\n",
       "    }\n",
       "</style>\n",
       "<table border=\"1\" class=\"dataframe\">\n",
       "  <thead>\n",
       "    <tr style=\"text-align: right;\">\n",
       "      <th></th>\n",
       "      <th>Class label</th>\n",
       "      <th>Alcohol</th>\n",
       "      <th>Malic Acid</th>\n",
       "    </tr>\n",
       "  </thead>\n",
       "  <tbody>\n",
       "    <tr>\n",
       "      <th>0</th>\n",
       "      <td>1</td>\n",
       "      <td>14.23</td>\n",
       "      <td>1.71</td>\n",
       "    </tr>\n",
       "    <tr>\n",
       "      <th>1</th>\n",
       "      <td>1</td>\n",
       "      <td>13.20</td>\n",
       "      <td>1.78</td>\n",
       "    </tr>\n",
       "    <tr>\n",
       "      <th>2</th>\n",
       "      <td>1</td>\n",
       "      <td>13.16</td>\n",
       "      <td>2.36</td>\n",
       "    </tr>\n",
       "    <tr>\n",
       "      <th>3</th>\n",
       "      <td>1</td>\n",
       "      <td>14.37</td>\n",
       "      <td>1.95</td>\n",
       "    </tr>\n",
       "    <tr>\n",
       "      <th>4</th>\n",
       "      <td>1</td>\n",
       "      <td>13.24</td>\n",
       "      <td>2.59</td>\n",
       "    </tr>\n",
       "  </tbody>\n",
       "</table>\n",
       "</div>"
      ],
      "text/plain": [
       "   Class label  Alcohol  Malic Acid\n",
       "0            1    14.23        1.71\n",
       "1            1    13.20        1.78\n",
       "2            1    13.16        2.36\n",
       "3            1    14.37        1.95\n",
       "4            1    13.24        2.59"
      ]
     },
     "execution_count": 23,
     "metadata": {},
     "output_type": "execute_result"
    }
   ],
   "source": [
    "import pandas as pd\n",
    "import numpy as np\n",
    "df = pd.read_csv(\"wine.data\",header=None,usecols=[0,1,2])\n",
    "df.columns=['Class label','Alcohol','Malic Acid']\n",
    "df.head()"
   ]
  },
  {
   "cell_type": "code",
   "execution_count": 24,
   "metadata": {},
   "outputs": [
    {
     "name": "stdout",
     "output_type": "stream",
     "text": [
      "<class 'pandas.core.frame.DataFrame'>\n",
      "RangeIndex: 178 entries, 0 to 177\n",
      "Data columns (total 3 columns):\n",
      "Class label    178 non-null int64\n",
      "Alcohol        178 non-null float64\n",
      "Malic Acid     178 non-null float64\n",
      "dtypes: float64(2), int64(1)\n",
      "memory usage: 4.2 KB\n"
     ]
    }
   ],
   "source": [
    "df.info()"
   ]
  },
  {
   "cell_type": "code",
   "execution_count": 25,
   "metadata": {},
   "outputs": [
    {
     "data": {
      "text/plain": [
       "array([1, 2, 3], dtype=int64)"
      ]
     },
     "execution_count": 25,
     "metadata": {},
     "output_type": "execute_result"
    }
   ],
   "source": [
    "df[\"Class label\"].unique()"
   ]
  },
  {
   "cell_type": "markdown",
   "metadata": {},
   "source": [
    "## Apply Standardization"
   ]
  },
  {
   "cell_type": "code",
   "execution_count": 38,
   "metadata": {},
   "outputs": [],
   "source": [
    "from sklearn import preprocessing\n",
    "std_scale = preprocessing.StandardScaler().fit(df[['Alcohol','Malic Acid']])\n",
    "df_std = std_scale.transform(df[['Alcohol','Malic Acid']])\n"
   ]
  },
  {
   "cell_type": "markdown",
   "metadata": {},
   "source": [
    "## Min Max Scaler"
   ]
  },
  {
   "cell_type": "code",
   "execution_count": 33,
   "metadata": {},
   "outputs": [
    {
     "data": {
      "text/plain": [
       "array([[0.84210526, 0.1916996 ],\n",
       "       [0.57105263, 0.2055336 ],\n",
       "       [0.56052632, 0.3201581 ],\n",
       "       [0.87894737, 0.23913043],\n",
       "       [0.58157895, 0.36561265],\n",
       "       [0.83421053, 0.20158103],\n",
       "       [0.88421053, 0.22332016],\n",
       "       [0.79736842, 0.27865613],\n",
       "       [1.        , 0.17786561],\n",
       "       [0.74473684, 0.12055336],\n",
       "       [0.80789474, 0.28063241],\n",
       "       [0.81315789, 0.14624506],\n",
       "       [0.71578947, 0.19565217],\n",
       "       [0.97894737, 0.19565217],\n",
       "       [0.88157895, 0.22332016],\n",
       "       [0.68421053, 0.21146245],\n",
       "       [0.86052632, 0.23320158],\n",
       "       [0.73684211, 0.16403162],\n",
       "       [0.83157895, 0.16798419],\n",
       "       [0.68684211, 0.46640316],\n",
       "       [0.79736842, 0.17588933],\n",
       "       [0.5       , 0.60474308],\n",
       "       [0.70526316, 0.22134387],\n",
       "       [0.47894737, 0.16996047],\n",
       "       [0.65      , 0.21146245],\n",
       "       [0.53157895, 0.25889328],\n",
       "       [0.62105263, 0.20355731],\n",
       "       [0.59736842, 0.19367589],\n",
       "       [0.74736842, 0.22924901],\n",
       "       [0.78684211, 0.18577075],\n",
       "       [0.71052632, 0.15019763],\n",
       "       [0.67105263, 0.18181818],\n",
       "       [0.69736842, 0.21541502],\n",
       "       [0.71842105, 0.15612648],\n",
       "       [0.65263158, 0.20948617],\n",
       "       [0.64473684, 0.21146245],\n",
       "       [0.59210526, 0.17786561],\n",
       "       [0.53157895, 0.1798419 ],\n",
       "       [0.53684211, 0.15019763],\n",
       "       [0.83947368, 0.64229249],\n",
       "       [0.66578947, 0.1916996 ],\n",
       "       [0.62631579, 0.61264822],\n",
       "       [0.75      , 0.22727273],\n",
       "       [0.58157895, 0.64031621],\n",
       "       [0.53157895, 0.20355731],\n",
       "       [0.83684211, 0.65217391],\n",
       "       [0.88157895, 0.56324111],\n",
       "       [0.75526316, 0.18577075],\n",
       "       [0.80789474, 0.25296443],\n",
       "       [0.76578947, 0.19565217],\n",
       "       [0.53157895, 0.19565217],\n",
       "       [0.73684211, 0.1798419 ],\n",
       "       [0.73421053, 0.19960474],\n",
       "       [0.72105263, 0.22924901],\n",
       "       [0.71315789, 0.18379447],\n",
       "       [0.66578947, 0.19565217],\n",
       "       [0.83947368, 0.18972332],\n",
       "       [0.59473684, 0.243083  ],\n",
       "       [0.70789474, 0.13636364],\n",
       "       [0.35263158, 0.03952569],\n",
       "       [0.34210526, 0.07114625],\n",
       "       [0.42368421, 0.12252964],\n",
       "       [0.69473684, 0.10079051],\n",
       "       [0.35263158, 0.0770751 ],\n",
       "       [0.3       , 0.14031621],\n",
       "       [0.35263158, 0.09288538],\n",
       "       [0.54736842, 0.05335968],\n",
       "       [0.35263158, 0.08498024],\n",
       "       [0.60789474, 0.03952569],\n",
       "       [0.31052632, 0.08893281],\n",
       "       [0.33157895, 0.17193676],\n",
       "       [0.74473684, 0.15217391],\n",
       "       [0.64736842, 0.18181818],\n",
       "       [0.51578947, 0.18379447],\n",
       "       [0.24473684, 0.06916996],\n",
       "       [0.16578947, 0.22529644],\n",
       "       [0.52631579, 0.03162055],\n",
       "       [0.21315789, 0.42490119],\n",
       "       [0.34210526, 0.04940711],\n",
       "       [0.43947368, 0.61857708],\n",
       "       [0.25526316, 0.03557312],\n",
       "       [0.44473684, 0.21146245],\n",
       "       [0.27631579, 0.0770751 ],\n",
       "       [0.53157895, 0.61660079],\n",
       "       [0.21315789, 0.02964427],\n",
       "       [0.43157895, 0.04743083],\n",
       "       [0.29736842, 0.17193676],\n",
       "       [0.16315789, 0.18379447],\n",
       "       [0.16052632, 0.26086957],\n",
       "       [0.27631579, 0.11660079],\n",
       "       [0.27631579, 0.21541502],\n",
       "       [0.25526316, 0.15217391],\n",
       "       [0.43684211, 0.15612648],\n",
       "       [0.33157895, 0.41304348],\n",
       "       [0.15526316, 0.24703557],\n",
       "       [0.37894737, 0.1541502 ],\n",
       "       [0.20526316, 0.27272727],\n",
       "       [0.33157895, 0.13241107],\n",
       "       [0.35263158, 0.06521739],\n",
       "       [0.33157895, 0.48023715],\n",
       "       [0.27631579, 0.26482213],\n",
       "       [0.41315789, 0.11857708],\n",
       "       [0.34473684, 0.33794466],\n",
       "       [0.20789474, 0.19367589],\n",
       "       [0.38947368, 0.19565217],\n",
       "       [0.36578947, 0.35770751],\n",
       "       [0.32105263, 0.19565217],\n",
       "       [0.44473684, 0.19960474],\n",
       "       [0.31315789, 0.10869565],\n",
       "       [0.15263158, 0.12055336],\n",
       "       [0.11315789, 0.59288538],\n",
       "       [0.39210526, 0.33399209],\n",
       "       [0.19210526, 0.38339921],\n",
       "       [0.1       , 0.        ],\n",
       "       [0.27631579, 0.1284585 ],\n",
       "       [0.        , 0.15217391],\n",
       "       [0.20789474, 0.14426877],\n",
       "       [0.36578947, 0.17193676],\n",
       "       [0.45789474, 0.53162055],\n",
       "       [0.25526316, 0.53162055],\n",
       "       [0.11052632, 0.32806324],\n",
       "       [0.13947368, 0.25889328],\n",
       "       [0.36578947, 0.72924901],\n",
       "       [0.53157895, 1.        ],\n",
       "       [0.22105263, 0.7055336 ],\n",
       "       [0.27368421, 0.28063241],\n",
       "       [0.36842105, 0.15612648],\n",
       "       [0.2       , 0.27470356],\n",
       "       [0.35263158, 0.17588933],\n",
       "       [0.26578947, 0.70355731],\n",
       "       [0.48157895, 0.12055336],\n",
       "       [0.48684211, 0.44466403],\n",
       "       [0.46842105, 0.31027668],\n",
       "       [0.43947368, 0.55533597],\n",
       "       [0.38947368, 0.09881423],\n",
       "       [0.41315789, 0.33992095],\n",
       "       [0.32105263, 0.78656126],\n",
       "       [0.39473684, 0.94268775],\n",
       "       [0.64736842, 0.56324111],\n",
       "       [0.47631579, 0.43873518],\n",
       "       [0.5       , 0.40909091],\n",
       "       [0.61315789, 0.35968379],\n",
       "       [0.65526316, 0.48023715],\n",
       "       [0.68157895, 0.83201581],\n",
       "       [0.32105263, 0.62055336],\n",
       "       [0.56052632, 0.55928854],\n",
       "       [0.75      , 0.84980237],\n",
       "       [0.48421053, 0.76482213],\n",
       "       [0.60263158, 0.49407115],\n",
       "       [0.53947368, 0.62450593],\n",
       "       [0.65      , 0.47035573],\n",
       "       [0.46315789, 0.38142292],\n",
       "       [0.54736842, 0.22924901],\n",
       "       [0.57894737, 0.50592885],\n",
       "       [0.40789474, 0.10869565],\n",
       "       [0.56315789, 0.87944664],\n",
       "       [0.73947368, 0.66798419],\n",
       "       [0.37368421, 0.45256917],\n",
       "       [0.87105263, 0.18577075],\n",
       "       [0.64473684, 0.18379447],\n",
       "       [0.35      , 0.61067194],\n",
       "       [0.7       , 0.49802372],\n",
       "       [0.47894737, 0.5       ],\n",
       "       [0.50789474, 0.53557312],\n",
       "       [0.72368421, 0.39920949],\n",
       "       [0.71052632, 0.71541502],\n",
       "       [0.63684211, 0.58498024],\n",
       "       [0.47105263, 0.51976285],\n",
       "       [0.67105263, 0.36363636],\n",
       "       [0.62368421, 0.76284585],\n",
       "       [0.30789474, 0.45256917],\n",
       "       [0.45789474, 0.32608696],\n",
       "       [0.82368421, 0.34980237],\n",
       "       [0.70526316, 0.97035573],\n",
       "       [0.62368421, 0.62648221],\n",
       "       [0.58947368, 0.69960474],\n",
       "       [0.56315789, 0.36561265],\n",
       "       [0.81578947, 0.66403162]])"
      ]
     },
     "execution_count": 33,
     "metadata": {},
     "output_type": "execute_result"
    }
   ],
   "source": [
    "from sklearn import preprocessing\n",
    "minmax_scale = preprocessing.MinMaxScaler().fit(df[['Alcohol','Malic Acid']])\n",
    "df_minmax = minmax_scale.transform(df[['Alcohol','Malic Acid']])\n",
    "df_minmax \n"
   ]
  },
  {
   "cell_type": "code",
   "execution_count": null,
   "metadata": {},
   "outputs": [],
   "source": []
  }
 ],
 "metadata": {
  "kernelspec": {
   "display_name": "Python 3",
   "language": "python",
   "name": "python3"
  },
  "toc": {
   "base_numbering": 1,
   "nav_menu": {},
   "number_sections": true,
   "sideBar": true,
   "skip_h1_title": false,
   "title_cell": "Table of Contents",
   "title_sidebar": "Contents",
   "toc_cell": false,
   "toc_position": {},
   "toc_section_display": true,
   "toc_window_display": false
  }
 },
 "nbformat": 4,
 "nbformat_minor": 2
}
